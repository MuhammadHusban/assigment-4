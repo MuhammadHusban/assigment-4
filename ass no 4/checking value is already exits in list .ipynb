{
 "cells": [
  {
   "cell_type": "markdown",
   "id": "a72875f5",
   "metadata": {},
   "source": [
    "# checking value is already exits in list "
   ]
  },
  {
   "cell_type": "code",
   "execution_count": 3,
   "id": "42b9ac7c",
   "metadata": {},
   "outputs": [
    {
     "name": "stdout",
     "output_type": "stream",
     "text": [
      "Key is present in the dictionary\n",
      "Key is not present in the dictionary\n"
     ]
    }
   ],
   "source": [
    "a = {1: 10, 2: 20, 3: 30, 4: 40, 5: 50, 6: 60}\n",
    "def is_key_present(x):\n",
    "  if x in a:\n",
    "      print('Key is present in the dictionary')\n",
    "  else:\n",
    "      print('Key is not present in the dictionary')\n",
    "is_key_present(3)\n",
    "is_key_present(70)"
   ]
  },
  {
   "cell_type": "code",
   "execution_count": null,
   "id": "a6028605",
   "metadata": {},
   "outputs": [],
   "source": []
  }
 ],
 "metadata": {
  "kernelspec": {
   "display_name": "Python 3",
   "language": "python",
   "name": "python3"
  },
  "language_info": {
   "codemirror_mode": {
    "name": "ipython",
    "version": 3
   },
   "file_extension": ".py",
   "mimetype": "text/x-python",
   "name": "python",
   "nbconvert_exporter": "python",
   "pygments_lexer": "ipython3",
   "version": "3.8.8"
  }
 },
 "nbformat": 4,
 "nbformat_minor": 5
}
