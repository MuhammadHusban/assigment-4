{
 "cells": [
  {
   "cell_type": "markdown",
   "id": "b02e8160",
   "metadata": {},
   "source": [
    "# Adding a key to a dictionary "
   ]
  },
  {
   "cell_type": "code",
   "execution_count": null,
   "id": "d1b88a20",
   "metadata": {},
   "outputs": [],
   "source": [
    "quares = {1: 1, 2: 4, 3: 9}\n",
    "squares[4] = 16 # Adding new key-value pair\n",
    "print(squares)"
   ]
  }
 ],
 "metadata": {
  "kernelspec": {
   "display_name": "Python 3",
   "language": "python",
   "name": "python3"
  },
  "language_info": {
   "codemirror_mode": {
    "name": "ipython",
    "version": 3
   },
   "file_extension": ".py",
   "mimetype": "text/x-python",
   "name": "python",
   "nbconvert_exporter": "python",
   "pygments_lexer": "ipython3",
   "version": "3.8.8"
  }
 },
 "nbformat": 4,
 "nbformat_minor": 5
}
